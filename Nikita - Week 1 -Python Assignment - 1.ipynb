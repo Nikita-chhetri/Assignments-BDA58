{
 "cells": [
  {
   "cell_type": "markdown",
   "id": "836b27e3",
   "metadata": {},
   "source": [
    "<div style=\"background-color: #90EE90;\">   <b>NIKITA CHHETRI</b>  </div>"
   ]
  },
  {
   "cell_type": "markdown",
   "id": "7cce0eff",
   "metadata": {},
   "source": [
    "#### This notebook contains scenario-based Python questions along with their solutions. It covers topics such as Python basics, data structures, NumPy, pandas, and data types.\n"
   ]
  },
  {
   "cell_type": "code",
   "execution_count": 1,
   "id": "965b8e60",
   "metadata": {},
   "outputs": [],
   "source": [
    "import numpy as np\n",
    "import pandas as pd\n",
    "#importing necessary libraries"
   ]
  },
  {
   "cell_type": "markdown",
   "id": "216f645a",
   "metadata": {},
   "source": [
    "Scenario: You have a list of integers, and you need to find the maximum value in the list.\n",
    "\n",
    "1) How would you find the maximum value from the following list?\n"
   ]
  },
  {
   "cell_type": "code",
   "execution_count": 2,
   "id": "878ac1d5",
   "metadata": {},
   "outputs": [
    {
     "data": {
      "text/plain": [
       "10"
      ]
     },
     "execution_count": 2,
     "metadata": {},
     "output_type": "execute_result"
    }
   ],
   "source": [
    "list =np.array([3,6,7,9,10])\n",
    "#created an array of the list \n",
    "list.max()\n",
    "#applied max method to search largest element"
   ]
  },
  {
   "cell_type": "markdown",
   "id": "62de42b4",
   "metadata": {},
   "source": [
    "Scenario: You need to concatenate a list of strings into a single string, with each string separated by a comma.\n",
    "\n",
    "2) How would you combine the following list of strings into a single string?\n"
   ]
  },
  {
   "cell_type": "code",
   "execution_count": 3,
   "id": "c8cc9a98",
   "metadata": {},
   "outputs": [
    {
     "data": {
      "text/plain": [
       "'NIKILASXMIResmaMONICA'"
      ]
     },
     "execution_count": 3,
     "metadata": {},
     "output_type": "execute_result"
    }
   ],
   "source": [
    "string= ['NIKI','LASXMI','Resma','MONICA']\n",
    "stri = ''\n",
    "for name in string:\n",
    "    stri += name + ','\n",
    "    stri = stri[:-1]\n",
    "stri"
   ]
  },
  {
   "cell_type": "code",
   "execution_count": 4,
   "id": "6c50ac4c",
   "metadata": {},
   "outputs": [
    {
     "data": {
      "text/plain": [
       "'Rahul,Sema,Shiv,Shankar,Jessie,Rizma'"
      ]
     },
     "execution_count": 4,
     "metadata": {},
     "output_type": "execute_result"
    }
   ],
   "source": [
    "names = ['Rahul','Sema','Shiv','Shankar','Jessie','Rizma']\n",
    "combined_string = ''\n",
    "#using loop method\n",
    "for name in names:\n",
    "    combined_string += name + ','\n",
    "combined_string = combined_string[:-1]\n",
    "#difference lies here although the codes are exactly same,indentation changed the result entirely\n",
    "combined_string\n"
   ]
  },
  {
   "cell_type": "markdown",
   "id": "44661a24",
   "metadata": {},
   "source": [
    "Scenario: You have a dictionary where the keys are names and the values are ages. You need to retrieve the age of a specific person.\n",
    "\n",
    "3) How would you get the age of \"Dev\" from the following dictionary?\n"
   ]
  },
  {
   "cell_type": "code",
   "execution_count": 5,
   "id": "b85c7b67",
   "metadata": {},
   "outputs": [
    {
     "data": {
      "text/plain": [
       "32"
      ]
     },
     "execution_count": 5,
     "metadata": {},
     "output_type": "execute_result"
    }
   ],
   "source": [
    "name_age = {'Rema':35,'Daksh':27,'Ritvik':32,'Samy':25}\n",
    "name_age['Ritvik']\n",
    "#used index to retrieve the age\n"
   ]
  },
  {
   "cell_type": "markdown",
   "id": "d3f1d54a",
   "metadata": {},
   "source": [
    "Scenario: You need to remove duplicate elements from a list while preserving the original order of elements.\n",
    "\n",
    "4) How would you remove duplicates from the following list?\n"
   ]
  },
  {
   "cell_type": "code",
   "execution_count": 6,
   "id": "804e1dbf",
   "metadata": {},
   "outputs": [
    {
     "data": {
      "text/plain": [
       "[1, 2, 4, 6, 8]"
      ]
     },
     "execution_count": 6,
     "metadata": {},
     "output_type": "execute_result"
    }
   ],
   "source": [
    "duplicates = [1,2,4,4,6,8]\n",
    "unique=[]\n",
    "#an empty cell to fill in with unique elements\n",
    "for duplicate in duplicates:\n",
    "    if duplicate not in unique:  #nested loop\n",
    "        unique.append(duplicate)\n",
    "unique"
   ]
  },
  {
   "cell_type": "markdown",
   "id": "d4db62ab",
   "metadata": {},
   "source": [
    "Scenario: You have a NumPy array and need to compute the sum of all its elements.\n",
    "\n",
    "5) How would you find the sum of elements in the following NumPy array?\n"
   ]
  },
  {
   "cell_type": "code",
   "execution_count": 7,
   "id": "03bdf5b5",
   "metadata": {},
   "outputs": [
    {
     "data": {
      "text/plain": [
       "15"
      ]
     },
     "execution_count": 7,
     "metadata": {},
     "output_type": "execute_result"
    }
   ],
   "source": [
    "array = np.array([1,2,3,4,5])\n",
    "total_sum = np.sum(array)\n",
    "#used np.sum() function to get the sum\n",
    "total_sum\n"
   ]
  },
  {
   "cell_type": "markdown",
   "id": "81fd1e71",
   "metadata": {},
   "source": [
    "Scenario: You have a 2D NumPy array and need to get the maximum value from each column.\n",
    "\n",
    "6) How would you find the maximum values for each column in the following array?\n"
   ]
  },
  {
   "cell_type": "code",
   "execution_count": 8,
   "id": "b5caa18f",
   "metadata": {},
   "outputs": [
    {
     "data": {
      "text/plain": [
       "array([8, 9, 5])"
      ]
     },
     "execution_count": 8,
     "metadata": {},
     "output_type": "execute_result"
    }
   ],
   "source": [
    "two_d = np.array([[3,4,5],[8,6,5],[0,9,5]])\n",
    "two_d\n",
    "np.max(two_d, axis = 0)\n",
    "#np.max gives us the maximum value \n",
    "#axis=0 represents the columns\n"
   ]
  },
  {
   "cell_type": "markdown",
   "id": "901c7fac",
   "metadata": {},
   "source": [
    "Scenario: You have a DataFrame and need to sort it by a specific column.\n",
    "\n",
    "7) How would you sort the DataFrame by the \"Age\" column?\n"
   ]
  },
  {
   "cell_type": "code",
   "execution_count": 9,
   "id": "b4f2151e",
   "metadata": {},
   "outputs": [
    {
     "data": {
      "text/html": [
       "<div>\n",
       "<style scoped>\n",
       "    .dataframe tbody tr th:only-of-type {\n",
       "        vertical-align: middle;\n",
       "    }\n",
       "\n",
       "    .dataframe tbody tr th {\n",
       "        vertical-align: top;\n",
       "    }\n",
       "\n",
       "    .dataframe thead th {\n",
       "        text-align: right;\n",
       "    }\n",
       "</style>\n",
       "<table border=\"1\" class=\"dataframe\">\n",
       "  <thead>\n",
       "    <tr style=\"text-align: right;\">\n",
       "      <th></th>\n",
       "      <th>Name</th>\n",
       "      <th>Age</th>\n",
       "    </tr>\n",
       "  </thead>\n",
       "  <tbody>\n",
       "    <tr>\n",
       "      <th>5</th>\n",
       "      <td>Rizma</td>\n",
       "      <td>21</td>\n",
       "    </tr>\n",
       "    <tr>\n",
       "      <th>3</th>\n",
       "      <td>Shankar</td>\n",
       "      <td>23</td>\n",
       "    </tr>\n",
       "    <tr>\n",
       "      <th>0</th>\n",
       "      <td>Rahul</td>\n",
       "      <td>25</td>\n",
       "    </tr>\n",
       "    <tr>\n",
       "      <th>1</th>\n",
       "      <td>Sema</td>\n",
       "      <td>34</td>\n",
       "    </tr>\n",
       "    <tr>\n",
       "      <th>4</th>\n",
       "      <td>Jessie</td>\n",
       "      <td>45</td>\n",
       "    </tr>\n",
       "    <tr>\n",
       "      <th>2</th>\n",
       "      <td>Shiv</td>\n",
       "      <td>68</td>\n",
       "    </tr>\n",
       "  </tbody>\n",
       "</table>\n",
       "</div>"
      ],
      "text/plain": [
       "      Name  Age\n",
       "5    Rizma   21\n",
       "3  Shankar   23\n",
       "0    Rahul   25\n",
       "1     Sema   34\n",
       "4   Jessie   45\n",
       "2     Shiv   68"
      ]
     },
     "execution_count": 9,
     "metadata": {},
     "output_type": "execute_result"
    }
   ],
   "source": [
    "data = {'Name':['Rahul','Sema','Shiv','Shankar','Jessie','Rizma'],\n",
    "       'Age':[25,34,68,23,45,21]}\n",
    "#created a variable data and converted into df dataframe\n",
    "df = pd.DataFrame(data)\n",
    "df.sort_values(by='Age')\n",
    "#sort_values to sort data \n"
   ]
  },
  {
   "cell_type": "markdown",
   "id": "143afb25",
   "metadata": {},
   "source": [
    "Scenario: You need to calculate the total sum of a column in a DataFrame.\n",
    "\n",
    "8) How would you find the sum of the \"Sales\" column?\n"
   ]
  },
  {
   "cell_type": "code",
   "execution_count": 10,
   "id": "1a17d7b3",
   "metadata": {},
   "outputs": [
    {
     "data": {
      "text/plain": [
       "831"
      ]
     },
     "execution_count": 10,
     "metadata": {},
     "output_type": "execute_result"
    }
   ],
   "source": [
    "groceries = {'Product':['Apple','Banana','Grapes','Orange'],\n",
    "             'Sales':[150,200,125,356]}\n",
    "sales_data = pd.DataFrame(groceries)\n",
    "total_sales = sales_data['Sales'].sum()\n",
    "# sales_data['Sales'] represents the sales column on which summation is being \n",
    "# carried out\n",
    "total_sales\n"
   ]
  },
  {
   "cell_type": "markdown",
   "id": "87318bf0",
   "metadata": {},
   "source": [
    "Scenario: You need to check if a variable is of type int.\n",
    "\n",
    "9) How would you verify if a variable x is an integer?\n"
   ]
  },
  {
   "cell_type": "code",
   "execution_count": 11,
   "id": "d2577fb5",
   "metadata": {},
   "outputs": [
    {
     "name": "stdout",
     "output_type": "stream",
     "text": [
      "3 is an integer\n"
     ]
    }
   ],
   "source": [
    "num = 3\n",
    "# using if else method(conditional statement)\n",
    "if type(num) is int:\n",
    "    print(num, \"is an integer\")\n",
    "else:\n",
    "    print(num, \"is not an integer\")\n"
   ]
  },
  {
   "cell_type": "markdown",
   "id": "f37a9075",
   "metadata": {},
   "source": [
    "Scenario: You have a list of mixed types and need to create separate lists for integers, floats, and strings.\n",
    "\n",
    "10) How would you categorize the following mixed list into different types?\n",
    "\n"
   ]
  },
  {
   "cell_type": "code",
   "execution_count": 12,
   "id": "d72b8173",
   "metadata": {},
   "outputs": [
    {
     "name": "stdout",
     "output_type": "stream",
     "text": [
      "Integers: [1, 4]\n",
      "Floats: [2.3]\n",
      "Strings: ['hi', 'Liza']\n"
     ]
    }
   ],
   "source": [
    "mixed = [1,'hi',2.3,'Liza',4]\n",
    "integers = []\n",
    "floats =[]\n",
    "strings = []\n",
    "#created empty variables to fill in with respective type\n",
    "for i in mixed:\n",
    "    if type(i) is int:    #need to be careful about indentations\n",
    "        integers.append(i)\n",
    "    elif type(i) is float:\n",
    "        floats.append(i)\n",
    "    else:\n",
    "        strings.append(i)\n",
    "        \n",
    "print('Integers:',integers)\n",
    "print('Floats:',floats)\n",
    "print('Strings:',strings)\n"
   ]
  },
  {
   "cell_type": "markdown",
   "id": "2b99b86c",
   "metadata": {},
   "source": [
    "Scenario: You are given a string of comma-separated numbers. You need to convert this string into a list of integers.\n",
    "\n",
    "11) How would you achieve this conversion?\n",
    "\n"
   ]
  },
  {
   "cell_type": "code",
   "execution_count": 13,
   "id": "57151bd2",
   "metadata": {},
   "outputs": [
    {
     "data": {
      "text/plain": [
       "[1, 2, 4, 6]"
      ]
     },
     "execution_count": 13,
     "metadata": {},
     "output_type": "execute_result"
    }
   ],
   "source": [
    "csv_string = '1,2,4,6'\n",
    "in_t = csv_string.split(\",\")\n",
    "#split to split the numbers using ',' delimiter\n",
    "in_t = [int(num) for num in in_t]\n",
    "#int(num) to convert the type of number in the in_t list\n",
    "#code is inside [], as we are creating a list\n",
    "in_t\n"
   ]
  },
  {
   "cell_type": "markdown",
   "id": "42c1490c",
   "metadata": {},
   "source": [
    "Scenario: You need to reverse the words in a sentence while keeping the order of the words intact.\n",
    "\n",
    "12) How would you reverse each word in the following sentence?\n",
    "\n"
   ]
  },
  {
   "cell_type": "code",
   "execution_count": 14,
   "id": "78f5120b",
   "metadata": {},
   "outputs": [
    {
     "data": {
      "text/plain": [
       "'atikin si eman yM'"
      ]
     },
     "execution_count": 14,
     "metadata": {},
     "output_type": "execute_result"
    }
   ],
   "source": [
    "sentence = 'My name is nikita'\n",
    "sentence[::-1]\n",
    "#reversing using indexing"
   ]
  },
  {
   "cell_type": "code",
   "execution_count": 15,
   "id": "5a7f03b6",
   "metadata": {
    "scrolled": true
   },
   "outputs": [
    {
     "data": {
      "text/plain": [
       "'a t i k i n   s i   e m a n   y M'"
      ]
     },
     "execution_count": 15,
     "metadata": {},
     "output_type": "execute_result"
    }
   ],
   "source": [
    "sentence1 = 'My name is nikita'\n",
    "reverse_sentence = sentence1[::-1] #reversing the sentence\n",
    "reversee=\" \".join(reverse_sentence) #Joining the characters using space\n",
    "reversee\n"
   ]
  },
  {
   "cell_type": "markdown",
   "id": "361ef956",
   "metadata": {},
   "source": [
    "Scenario: You need to combine two lists into a dictionary where the elements of the first list are keys and the elements of the second list are values.\n",
    "\n",
    "13) How would you combine the following lists into a dictionary?\n"
   ]
  },
  {
   "cell_type": "code",
   "execution_count": 16,
   "id": "6f1e3556",
   "metadata": {},
   "outputs": [
    {
     "data": {
      "text/plain": [
       "{'Lexa': 45, 'John': 32, 'Wesley': 23}"
      ]
     },
     "execution_count": 16,
     "metadata": {},
     "output_type": "execute_result"
    }
   ],
   "source": [
    "name = ['Lexa','John','Wesley']\n",
    "Age = [45,32,23]\n",
    "\n",
    "dictionary = {}\n",
    "for i in range(len(name)):\n",
    "    dictionary[name[i]]=Age[i]\n",
    "dictionary\n",
    "#creates a sequence for name 0,1,2 and assigns value acc using same indexing for 2nd list\n",
    "#if 0th name is pulled simultaneoulsy 0th age is pulled\n"
   ]
  },
  {
   "cell_type": "markdown",
   "id": "edb4b7ca",
   "metadata": {},
   "source": [
    "Scenario: You are given a list of tuples where each tuple contains a name and an age. You need to sort this list by age.\n",
    "\n",
    "14) How would you sort the following list of tuples by age?\n",
    "\n"
   ]
  },
  {
   "cell_type": "code",
   "execution_count": 17,
   "id": "7f419297",
   "metadata": {},
   "outputs": [
    {
     "data": {
      "text/plain": [
       "[('George', 56), ('Lexa', 45), ('Ravi', 34)]"
      ]
     },
     "execution_count": 17,
     "metadata": {},
     "output_type": "execute_result"
    }
   ],
   "source": [
    "tuples = [('Lexa',45),('George',56),('Ravi',34)]\n",
    "# Sorting the list of tuples by age \n",
    "people = sorted(tuples)\n",
    "people"
   ]
  },
  {
   "cell_type": "code",
   "execution_count": 18,
   "id": "81fe00ef",
   "metadata": {},
   "outputs": [
    {
     "data": {
      "text/plain": [
       "[('Ravi', 34), ('Lexa', 45), ('George', 56)]"
      ]
     },
     "execution_count": 18,
     "metadata": {},
     "output_type": "execute_result"
    }
   ],
   "source": [
    "tupless = [('Lexa',45),('George',56),('Ravi',34)]\n",
    "sorted_people = sorted(tupless, key=lambda x: x[1])\n",
    "sorted_people\n",
    "#key=lambda x: x[1] is a sort function, where lamda x is a function that takes 1 argument,\n",
    "#while x[1](index) represents 2nd part of tuple"
   ]
  },
  {
   "cell_type": "code",
   "execution_count": 19,
   "id": "9c48a770",
   "metadata": {},
   "outputs": [
    {
     "data": {
      "text/plain": [
       "[('George', 56), ('Lexa', 45), ('Ravi', 34)]"
      ]
     },
     "execution_count": 19,
     "metadata": {},
     "output_type": "execute_result"
    }
   ],
   "source": [
    "tuplesss = [('Lexa',45),('George',56),('Ravi',34)]\n",
    "sorted_peoplee = sorted(tupless, key=lambda x: x[0])\n",
    "sorted_peoplee"
   ]
  },
  {
   "cell_type": "markdown",
   "id": "3132814e",
   "metadata": {},
   "source": [
    "Scenario: You have a 2D NumPy array and need to calculate the mean value of each row.\n",
    "\n",
    "15) How would you compute the mean value for each row in the following array?\n"
   ]
  },
  {
   "cell_type": "code",
   "execution_count": 20,
   "id": "d7070f5c",
   "metadata": {},
   "outputs": [
    {
     "data": {
      "text/plain": [
       "array([2., 5., 8.])"
      ]
     },
     "execution_count": 20,
     "metadata": {},
     "output_type": "execute_result"
    }
   ],
   "source": [
    "means = np.array([[1,2,3],[4,5,6],[7,8,9]])\n",
    "mean = np.mean(means,axis = 1)\n",
    "#np.mean() function calculates mean for each rows (axis=1)\n",
    "mean\n"
   ]
  },
  {
   "cell_type": "markdown",
   "id": "950251fc",
   "metadata": {},
   "source": [
    "Scenario: You need to create a NumPy array of size 10 filled with zeros, and then set the fifth element to 5.\n",
    "\n",
    "16) How would you create and modify the array as described?\n",
    "\n"
   ]
  },
  {
   "cell_type": "code",
   "execution_count": 21,
   "id": "937c1f72",
   "metadata": {},
   "outputs": [
    {
     "data": {
      "text/plain": [
       "array([0., 0., 0., 0., 5., 0., 0., 0., 0., 0.])"
      ]
     },
     "execution_count": 21,
     "metadata": {},
     "output_type": "execute_result"
    }
   ],
   "source": [
    "zero_s = np.zeros(10)\n",
    "zero_s[4]=5 #replacing the value with the index location\n",
    "zero_s\n"
   ]
  },
  {
   "cell_type": "markdown",
   "id": "1ad244fc",
   "metadata": {},
   "source": [
    "Scenario: You have a DataFrame and need to find the median of a numeric column\n",
    "\n",
    "17) How would you find the median of the \"Scores\" column in the following DataFrame?\n",
    "\n"
   ]
  },
  {
   "cell_type": "code",
   "execution_count": 22,
   "id": "7737b767",
   "metadata": {},
   "outputs": [
    {
     "data": {
      "text/plain": [
       "29.5"
      ]
     },
     "execution_count": 22,
     "metadata": {},
     "output_type": "execute_result"
    }
   ],
   "source": [
    "dff = {'Name':['Rahul','Sema','Shiv','Shankar','Jessie','Rizma'],\n",
    "       'Scores':[25,34,68,23,45,21]}\n",
    "media_n = pd.DataFrame(dff)\n",
    "media_n['Scores'].median()\n",
    "#media_n['Scores'] represents the Scores column \n"
   ]
  },
  {
   "cell_type": "markdown",
   "id": "a46dda9b",
   "metadata": {},
   "source": [
    "Scenario: You need to filter rows where the value in the \"Sales\" column is above 100 and then sort these rows by \"Date\" in descending order.\n",
    "\n",
    "18) How would you filter and sort the DataFrame based on the given criteria?\n",
    "\n"
   ]
  },
  {
   "cell_type": "code",
   "execution_count": 23,
   "id": "4cc9e0d4",
   "metadata": {},
   "outputs": [
    {
     "data": {
      "text/html": [
       "<div>\n",
       "<style scoped>\n",
       "    .dataframe tbody tr th:only-of-type {\n",
       "        vertical-align: middle;\n",
       "    }\n",
       "\n",
       "    .dataframe tbody tr th {\n",
       "        vertical-align: top;\n",
       "    }\n",
       "\n",
       "    .dataframe thead th {\n",
       "        text-align: right;\n",
       "    }\n",
       "</style>\n",
       "<table border=\"1\" class=\"dataframe\">\n",
       "  <thead>\n",
       "    <tr style=\"text-align: right;\">\n",
       "      <th></th>\n",
       "      <th>Product</th>\n",
       "      <th>Sales</th>\n",
       "      <th>Date</th>\n",
       "    </tr>\n",
       "  </thead>\n",
       "  <tbody>\n",
       "    <tr>\n",
       "      <th>2</th>\n",
       "      <td>Grapes</td>\n",
       "      <td>125</td>\n",
       "      <td>2024-11-06</td>\n",
       "    </tr>\n",
       "    <tr>\n",
       "      <th>1</th>\n",
       "      <td>Banana</td>\n",
       "      <td>200</td>\n",
       "      <td>2024-10-11</td>\n",
       "    </tr>\n",
       "    <tr>\n",
       "      <th>0</th>\n",
       "      <td>Apple</td>\n",
       "      <td>150</td>\n",
       "      <td>2024-10-09</td>\n",
       "    </tr>\n",
       "  </tbody>\n",
       "</table>\n",
       "</div>"
      ],
      "text/plain": [
       "  Product  Sales        Date\n",
       "2  Grapes    125  2024-11-06\n",
       "1  Banana    200  2024-10-11\n",
       "0   Apple    150  2024-10-09"
      ]
     },
     "execution_count": 23,
     "metadata": {},
     "output_type": "execute_result"
    }
   ],
   "source": [
    "rows = {'Product':['Apple','Banana','Grapes','Orange'],\n",
    "        'Sales':[150,200,125,56],\n",
    "       'Date':['2024-10-09','2024-10-11','2024-11-06','2024-12-12']}\n",
    "data = pd.DataFrame(rows)\n",
    "filter_data =data[data['Sales'] > 100]\n",
    "#this variable gives sales above 100\n",
    "filter_data.sort_values(by='Date',ascending = False)\n"
   ]
  },
  {
   "cell_type": "markdown",
   "id": "1d11c1a4",
   "metadata": {},
   "source": [
    "Scenario: You have a string containing a number and need to convert it to an integer. Additionally, handle the case where the string might not represent a valid integer.\n",
    "\n",
    "19) How would you safely convert the string \"42\" to an integer and handle invalid cases?\n",
    "\n"
   ]
  },
  {
   "cell_type": "code",
   "execution_count": 24,
   "id": "d2bac5e9",
   "metadata": {},
   "outputs": [
    {
     "name": "stdout",
     "output_type": "stream",
     "text": [
      "The integer value is: 42\n"
     ]
    }
   ],
   "source": [
    "string_number = \"42\"\n",
    "if string_number:\n",
    "    integer_value = int(string_number)\n",
    "    print(\"The integer value is:\", integer_value)\n",
    "else:\n",
    "    print(\"The string is not a valid integer\")\n"
   ]
  },
  {
   "cell_type": "markdown",
   "id": "c6a1a656",
   "metadata": {},
   "source": [
    "Scenario: You have a list containing different data types, and you want to separate out all the strings.\n",
    "\n",
    "20) How would you extract all string elements from the following list?\n",
    "\n"
   ]
  },
  {
   "cell_type": "code",
   "execution_count": 25,
   "id": "42566e64",
   "metadata": {},
   "outputs": [
    {
     "name": "stdout",
     "output_type": "stream",
     "text": [
      "['hey']\n"
     ]
    }
   ],
   "source": [
    "mixe_d = [2,'hey',3,3.4,True]\n",
    "strings = [] \n",
    "for item in mixe_d:\n",
    "    if type(item) == str:\n",
    "        strings.append(item)\n",
    "\n",
    "print(strings)\n",
    " "
   ]
  },
  {
   "cell_type": "code",
   "execution_count": null,
   "id": "58ec6aed",
   "metadata": {},
   "outputs": [],
   "source": []
  }
 ],
 "metadata": {
  "kernelspec": {
   "display_name": "Python 3 (ipykernel)",
   "language": "python",
   "name": "python3"
  },
  "language_info": {
   "codemirror_mode": {
    "name": "ipython",
    "version": 3
   },
   "file_extension": ".py",
   "mimetype": "text/x-python",
   "name": "python",
   "nbconvert_exporter": "python",
   "pygments_lexer": "ipython3",
   "version": "3.11.4"
  }
 },
 "nbformat": 4,
 "nbformat_minor": 5
}
