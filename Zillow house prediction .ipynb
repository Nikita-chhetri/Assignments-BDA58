{
 "cells": [
  {
   "cell_type": "markdown",
   "id": "a8529a44",
   "metadata": {},
   "source": [
    " <h1 align=\\\"center\\\"><font color='green'><font size=\\\"6\\\">Zillow house prediction</font> </h1>"
   ]
  },
  {
   "cell_type": "markdown",
   "id": "d7d97eb6",
   "metadata": {},
   "source": [
    "<div style=\"background-color: #90EE90;\">.</div>  </div>"
   ]
  },
  {
   "cell_type": "markdown",
   "id": "6262e331",
   "metadata": {},
   "source": [
    "- Creating a predictive model for housing prices using Linear Regression.\n",
    " - The model is created from a dataset collected from kaggle.\n",
    "  - Features like number of bedrooms, bathrooms, area are used for the prediction "
   ]
  },
  {
   "cell_type": "code",
   "execution_count": 1,
   "id": "2028c32a",
   "metadata": {},
   "outputs": [],
   "source": [
    "#importing necessary libraries\n",
    "import numpy as np\n",
    "import pandas as pd \n",
    "import matplotlib.pyplot as plt\n",
    "from sklearn.model_selection import train_test_split\n",
    "from sklearn.linear_model import LinearRegression\n",
    "from sklearn.metrics import mean_squared_error, r2_score\n",
    "from sklearn.metrics import median_absolute_error"
   ]
  },
  {
   "cell_type": "code",
   "execution_count": 2,
   "id": "ed696249",
   "metadata": {},
   "outputs": [
    {
     "data": {
      "text/html": [
       "<div>\n",
       "<style scoped>\n",
       "    .dataframe tbody tr th:only-of-type {\n",
       "        vertical-align: middle;\n",
       "    }\n",
       "\n",
       "    .dataframe tbody tr th {\n",
       "        vertical-align: top;\n",
       "    }\n",
       "\n",
       "    .dataframe thead th {\n",
       "        text-align: right;\n",
       "    }\n",
       "</style>\n",
       "<table border=\"1\" class=\"dataframe\">\n",
       "  <thead>\n",
       "    <tr style=\"text-align: right;\">\n",
       "      <th></th>\n",
       "      <th>State</th>\n",
       "      <th>City</th>\n",
       "      <th>Street</th>\n",
       "      <th>Zipcode</th>\n",
       "      <th>Bedroom</th>\n",
       "      <th>Bathroom</th>\n",
       "      <th>Area</th>\n",
       "      <th>PPSq</th>\n",
       "      <th>LotArea</th>\n",
       "      <th>MarketEstimate</th>\n",
       "      <th>RentEstimate</th>\n",
       "      <th>Latitude</th>\n",
       "      <th>Longitude</th>\n",
       "      <th>ListedPrice</th>\n",
       "    </tr>\n",
       "  </thead>\n",
       "  <tbody>\n",
       "    <tr>\n",
       "      <th>0</th>\n",
       "      <td>AL</td>\n",
       "      <td>Saraland</td>\n",
       "      <td>Scott Dr</td>\n",
       "      <td>36571.0</td>\n",
       "      <td>4.0</td>\n",
       "      <td>2.0</td>\n",
       "      <td>1614.0</td>\n",
       "      <td>148.636927</td>\n",
       "      <td>0.3805</td>\n",
       "      <td>240600.0</td>\n",
       "      <td>1599.0</td>\n",
       "      <td>30.819534</td>\n",
       "      <td>-88.095960</td>\n",
       "      <td>239900.0</td>\n",
       "    </tr>\n",
       "    <tr>\n",
       "      <th>1</th>\n",
       "      <td>AL</td>\n",
       "      <td>Robertsdale</td>\n",
       "      <td>Cowpen Creek Rd</td>\n",
       "      <td>36567.0</td>\n",
       "      <td>3.0</td>\n",
       "      <td>2.0</td>\n",
       "      <td>1800.0</td>\n",
       "      <td>144.388889</td>\n",
       "      <td>3.2000</td>\n",
       "      <td>NaN</td>\n",
       "      <td>NaN</td>\n",
       "      <td>30.590004</td>\n",
       "      <td>-87.580376</td>\n",
       "      <td>259900.0</td>\n",
       "    </tr>\n",
       "    <tr>\n",
       "      <th>2</th>\n",
       "      <td>AL</td>\n",
       "      <td>Gulf Shores</td>\n",
       "      <td>Spinnaker Dr #201</td>\n",
       "      <td>36542.0</td>\n",
       "      <td>2.0</td>\n",
       "      <td>2.0</td>\n",
       "      <td>1250.0</td>\n",
       "      <td>274.000000</td>\n",
       "      <td>NaN</td>\n",
       "      <td>NaN</td>\n",
       "      <td>NaN</td>\n",
       "      <td>30.284956</td>\n",
       "      <td>-87.747920</td>\n",
       "      <td>342500.0</td>\n",
       "    </tr>\n",
       "    <tr>\n",
       "      <th>3</th>\n",
       "      <td>AL</td>\n",
       "      <td>Chelsea</td>\n",
       "      <td>Mallet Way</td>\n",
       "      <td>35043.0</td>\n",
       "      <td>3.0</td>\n",
       "      <td>3.0</td>\n",
       "      <td>2224.0</td>\n",
       "      <td>150.629496</td>\n",
       "      <td>0.2600</td>\n",
       "      <td>336200.0</td>\n",
       "      <td>1932.0</td>\n",
       "      <td>33.357986</td>\n",
       "      <td>-86.608700</td>\n",
       "      <td>335000.0</td>\n",
       "    </tr>\n",
       "    <tr>\n",
       "      <th>4</th>\n",
       "      <td>AL</td>\n",
       "      <td>Huntsville</td>\n",
       "      <td>Turtlebrook Ct</td>\n",
       "      <td>35811.0</td>\n",
       "      <td>3.0</td>\n",
       "      <td>2.0</td>\n",
       "      <td>1225.0</td>\n",
       "      <td>204.081633</td>\n",
       "      <td>NaN</td>\n",
       "      <td>222700.0</td>\n",
       "      <td>1679.0</td>\n",
       "      <td>34.775517</td>\n",
       "      <td>-86.440700</td>\n",
       "      <td>250000.0</td>\n",
       "    </tr>\n",
       "  </tbody>\n",
       "</table>\n",
       "</div>"
      ],
      "text/plain": [
       "  State         City             Street  Zipcode  Bedroom  Bathroom    Area  \\\n",
       "0    AL     Saraland           Scott Dr  36571.0      4.0       2.0  1614.0   \n",
       "1    AL  Robertsdale    Cowpen Creek Rd  36567.0      3.0       2.0  1800.0   \n",
       "2    AL  Gulf Shores  Spinnaker Dr #201  36542.0      2.0       2.0  1250.0   \n",
       "3    AL      Chelsea         Mallet Way  35043.0      3.0       3.0  2224.0   \n",
       "4    AL   Huntsville     Turtlebrook Ct  35811.0      3.0       2.0  1225.0   \n",
       "\n",
       "         PPSq  LotArea  MarketEstimate  RentEstimate   Latitude  Longitude  \\\n",
       "0  148.636927   0.3805        240600.0        1599.0  30.819534 -88.095960   \n",
       "1  144.388889   3.2000             NaN           NaN  30.590004 -87.580376   \n",
       "2  274.000000      NaN             NaN           NaN  30.284956 -87.747920   \n",
       "3  150.629496   0.2600        336200.0        1932.0  33.357986 -86.608700   \n",
       "4  204.081633      NaN        222700.0        1679.0  34.775517 -86.440700   \n",
       "\n",
       "   ListedPrice  \n",
       "0     239900.0  \n",
       "1     259900.0  \n",
       "2     342500.0  \n",
       "3     335000.0  \n",
       "4     250000.0  "
      ]
     },
     "execution_count": 2,
     "metadata": {},
     "output_type": "execute_result"
    }
   ],
   "source": [
    "#creating dataframe \n",
    "house = pd.read_csv('zillow.csv')\n",
    "house.head()\n",
    "#displaying first 5 rows"
   ]
  },
  {
   "cell_type": "code",
   "execution_count": 3,
   "id": "920725ca",
   "metadata": {},
   "outputs": [
    {
     "data": {
      "text/plain": [
       "(22681, 14)"
      ]
     },
     "execution_count": 3,
     "metadata": {},
     "output_type": "execute_result"
    }
   ],
   "source": [
    "house.shape\n",
    "#gives no. of rows & columns "
   ]
  },
  {
   "cell_type": "code",
   "execution_count": 4,
   "id": "776c1fde",
   "metadata": {},
   "outputs": [
    {
     "data": {
      "text/plain": [
       "317534"
      ]
     },
     "execution_count": 4,
     "metadata": {},
     "output_type": "execute_result"
    }
   ],
   "source": [
    "house.size\n",
    "#displaying the dataframe size"
   ]
  },
  {
   "cell_type": "code",
   "execution_count": 5,
   "id": "bc7e61a5",
   "metadata": {},
   "outputs": [
    {
     "name": "stdout",
     "output_type": "stream",
     "text": [
      "<class 'pandas.core.frame.DataFrame'>\n",
      "RangeIndex: 22681 entries, 0 to 22680\n",
      "Data columns (total 14 columns):\n",
      " #   Column          Non-Null Count  Dtype  \n",
      "---  ------          --------------  -----  \n",
      " 0   State           22681 non-null  object \n",
      " 1   City            22681 non-null  object \n",
      " 2   Street          22681 non-null  object \n",
      " 3   Zipcode         22681 non-null  float64\n",
      " 4   Bedroom         22667 non-null  float64\n",
      " 5   Bathroom        22647 non-null  float64\n",
      " 6   Area            22681 non-null  float64\n",
      " 7   PPSq            22681 non-null  float64\n",
      " 8   LotArea         21779 non-null  float64\n",
      " 9   MarketEstimate  15445 non-null  float64\n",
      " 10  RentEstimate    16705 non-null  float64\n",
      " 11  Latitude        22681 non-null  float64\n",
      " 12  Longitude       22681 non-null  float64\n",
      " 13  ListedPrice     22681 non-null  float64\n",
      "dtypes: float64(11), object(3)\n",
      "memory usage: 2.4+ MB\n"
     ]
    }
   ],
   "source": [
    "house.info()\n",
    "#displaying valuable information of dataframe"
   ]
  },
  {
   "cell_type": "code",
   "execution_count": 6,
   "id": "1205cf4b",
   "metadata": {},
   "outputs": [
    {
     "data": {
      "text/html": [
       "<div>\n",
       "<style scoped>\n",
       "    .dataframe tbody tr th:only-of-type {\n",
       "        vertical-align: middle;\n",
       "    }\n",
       "\n",
       "    .dataframe tbody tr th {\n",
       "        vertical-align: top;\n",
       "    }\n",
       "\n",
       "    .dataframe thead th {\n",
       "        text-align: right;\n",
       "    }\n",
       "</style>\n",
       "<table border=\"1\" class=\"dataframe\">\n",
       "  <thead>\n",
       "    <tr style=\"text-align: right;\">\n",
       "      <th></th>\n",
       "      <th>Zipcode</th>\n",
       "      <th>Bedroom</th>\n",
       "      <th>Bathroom</th>\n",
       "      <th>Area</th>\n",
       "      <th>PPSq</th>\n",
       "      <th>LotArea</th>\n",
       "      <th>MarketEstimate</th>\n",
       "      <th>RentEstimate</th>\n",
       "      <th>Latitude</th>\n",
       "      <th>Longitude</th>\n",
       "      <th>ListedPrice</th>\n",
       "    </tr>\n",
       "  </thead>\n",
       "  <tbody>\n",
       "    <tr>\n",
       "      <th>count</th>\n",
       "      <td>22681.000000</td>\n",
       "      <td>22667.000000</td>\n",
       "      <td>22647.000000</td>\n",
       "      <td>22681.000000</td>\n",
       "      <td>22681.000000</td>\n",
       "      <td>21779.000000</td>\n",
       "      <td>1.544500e+04</td>\n",
       "      <td>16705.000000</td>\n",
       "      <td>22681.000000</td>\n",
       "      <td>22681.000000</td>\n",
       "      <td>2.268100e+04</td>\n",
       "    </tr>\n",
       "    <tr>\n",
       "      <th>mean</th>\n",
       "      <td>50023.455403</td>\n",
       "      <td>3.393435</td>\n",
       "      <td>2.423299</td>\n",
       "      <td>2128.138398</td>\n",
       "      <td>222.641994</td>\n",
       "      <td>2.354870</td>\n",
       "      <td>4.870383e+05</td>\n",
       "      <td>2624.699192</td>\n",
       "      <td>39.751686</td>\n",
       "      <td>-92.299353</td>\n",
       "      <td>5.324399e+05</td>\n",
       "    </tr>\n",
       "    <tr>\n",
       "      <th>std</th>\n",
       "      <td>29570.312497</td>\n",
       "      <td>1.050506</td>\n",
       "      <td>1.157670</td>\n",
       "      <td>1577.512556</td>\n",
       "      <td>202.811788</td>\n",
       "      <td>16.128371</td>\n",
       "      <td>1.155986e+06</td>\n",
       "      <td>4029.614920</td>\n",
       "      <td>5.694751</td>\n",
       "      <td>16.866820</td>\n",
       "      <td>1.574922e+06</td>\n",
       "    </tr>\n",
       "    <tr>\n",
       "      <th>min</th>\n",
       "      <td>1002.000000</td>\n",
       "      <td>0.000000</td>\n",
       "      <td>0.000000</td>\n",
       "      <td>120.000000</td>\n",
       "      <td>1.925926</td>\n",
       "      <td>0.000000</td>\n",
       "      <td>1.570000e+04</td>\n",
       "      <td>100.000000</td>\n",
       "      <td>25.449816</td>\n",
       "      <td>-161.772780</td>\n",
       "      <td>4.888000e+03</td>\n",
       "    </tr>\n",
       "    <tr>\n",
       "      <th>25%</th>\n",
       "      <td>25419.000000</td>\n",
       "      <td>3.000000</td>\n",
       "      <td>2.000000</td>\n",
       "      <td>1400.000000</td>\n",
       "      <td>132.729544</td>\n",
       "      <td>0.173439</td>\n",
       "      <td>2.306000e+05</td>\n",
       "      <td>1641.000000</td>\n",
       "      <td>35.938618</td>\n",
       "      <td>-103.317760</td>\n",
       "      <td>2.250000e+05</td>\n",
       "    </tr>\n",
       "    <tr>\n",
       "      <th>50%</th>\n",
       "      <td>50703.000000</td>\n",
       "      <td>3.000000</td>\n",
       "      <td>2.000000</td>\n",
       "      <td>1849.000000</td>\n",
       "      <td>184.122149</td>\n",
       "      <td>0.299449</td>\n",
       "      <td>3.417000e+05</td>\n",
       "      <td>2149.000000</td>\n",
       "      <td>39.938480</td>\n",
       "      <td>-89.185210</td>\n",
       "      <td>3.449000e+05</td>\n",
       "    </tr>\n",
       "    <tr>\n",
       "      <th>75%</th>\n",
       "      <td>74134.000000</td>\n",
       "      <td>4.000000</td>\n",
       "      <td>3.000000</td>\n",
       "      <td>2466.000000</td>\n",
       "      <td>257.118205</td>\n",
       "      <td>0.930000</td>\n",
       "      <td>4.995000e+05</td>\n",
       "      <td>2800.000000</td>\n",
       "      <td>42.936455</td>\n",
       "      <td>-79.108376</td>\n",
       "      <td>4.999000e+05</td>\n",
       "    </tr>\n",
       "    <tr>\n",
       "      <th>max</th>\n",
       "      <td>99950.000000</td>\n",
       "      <td>21.000000</td>\n",
       "      <td>25.000000</td>\n",
       "      <td>99990.000000</td>\n",
       "      <td>6117.071334</td>\n",
       "      <td>800.000000</td>\n",
       "      <td>7.195920e+07</td>\n",
       "      <td>212834.000000</td>\n",
       "      <td>65.044370</td>\n",
       "      <td>-67.016030</td>\n",
       "      <td>7.600000e+07</td>\n",
       "    </tr>\n",
       "  </tbody>\n",
       "</table>\n",
       "</div>"
      ],
      "text/plain": [
       "            Zipcode       Bedroom      Bathroom          Area          PPSq  \\\n",
       "count  22681.000000  22667.000000  22647.000000  22681.000000  22681.000000   \n",
       "mean   50023.455403      3.393435      2.423299   2128.138398    222.641994   \n",
       "std    29570.312497      1.050506      1.157670   1577.512556    202.811788   \n",
       "min     1002.000000      0.000000      0.000000    120.000000      1.925926   \n",
       "25%    25419.000000      3.000000      2.000000   1400.000000    132.729544   \n",
       "50%    50703.000000      3.000000      2.000000   1849.000000    184.122149   \n",
       "75%    74134.000000      4.000000      3.000000   2466.000000    257.118205   \n",
       "max    99950.000000     21.000000     25.000000  99990.000000   6117.071334   \n",
       "\n",
       "            LotArea  MarketEstimate   RentEstimate      Latitude  \\\n",
       "count  21779.000000    1.544500e+04   16705.000000  22681.000000   \n",
       "mean       2.354870    4.870383e+05    2624.699192     39.751686   \n",
       "std       16.128371    1.155986e+06    4029.614920      5.694751   \n",
       "min        0.000000    1.570000e+04     100.000000     25.449816   \n",
       "25%        0.173439    2.306000e+05    1641.000000     35.938618   \n",
       "50%        0.299449    3.417000e+05    2149.000000     39.938480   \n",
       "75%        0.930000    4.995000e+05    2800.000000     42.936455   \n",
       "max      800.000000    7.195920e+07  212834.000000     65.044370   \n",
       "\n",
       "          Longitude   ListedPrice  \n",
       "count  22681.000000  2.268100e+04  \n",
       "mean     -92.299353  5.324399e+05  \n",
       "std       16.866820  1.574922e+06  \n",
       "min     -161.772780  4.888000e+03  \n",
       "25%     -103.317760  2.250000e+05  \n",
       "50%      -89.185210  3.449000e+05  \n",
       "75%      -79.108376  4.999000e+05  \n",
       "max      -67.016030  7.600000e+07  "
      ]
     },
     "execution_count": 6,
     "metadata": {},
     "output_type": "execute_result"
    }
   ],
   "source": [
    "house.describe()\n",
    "#displaying the statistical properties of dataframe"
   ]
  },
  {
   "cell_type": "code",
   "execution_count": 7,
   "id": "9fd29bbe",
   "metadata": {},
   "outputs": [
    {
     "data": {
      "text/html": [
       "<div>\n",
       "<style scoped>\n",
       "    .dataframe tbody tr th:only-of-type {\n",
       "        vertical-align: middle;\n",
       "    }\n",
       "\n",
       "    .dataframe tbody tr th {\n",
       "        vertical-align: top;\n",
       "    }\n",
       "\n",
       "    .dataframe thead th {\n",
       "        text-align: right;\n",
       "    }\n",
       "</style>\n",
       "<table border=\"1\" class=\"dataframe\">\n",
       "  <thead>\n",
       "    <tr style=\"text-align: right;\">\n",
       "      <th></th>\n",
       "      <th>count</th>\n",
       "      <th>unique</th>\n",
       "      <th>top</th>\n",
       "      <th>freq</th>\n",
       "    </tr>\n",
       "  </thead>\n",
       "  <tbody>\n",
       "    <tr>\n",
       "      <th>State</th>\n",
       "      <td>22681</td>\n",
       "      <td>49</td>\n",
       "      <td>CT</td>\n",
       "      <td>499</td>\n",
       "    </tr>\n",
       "    <tr>\n",
       "      <th>City</th>\n",
       "      <td>22681</td>\n",
       "      <td>5481</td>\n",
       "      <td>Lincoln</td>\n",
       "      <td>237</td>\n",
       "    </tr>\n",
       "    <tr>\n",
       "      <th>Street</th>\n",
       "      <td>22681</td>\n",
       "      <td>19315</td>\n",
       "      <td>Main St</td>\n",
       "      <td>44</td>\n",
       "    </tr>\n",
       "  </tbody>\n",
       "</table>\n",
       "</div>"
      ],
      "text/plain": [
       "        count unique      top freq\n",
       "State   22681     49       CT  499\n",
       "City    22681   5481  Lincoln  237\n",
       "Street  22681  19315  Main St   44"
      ]
     },
     "execution_count": 7,
     "metadata": {},
     "output_type": "execute_result"
    }
   ],
   "source": [
    "house.describe(include = 'object').T\n",
    "#displaying information about non-numeric columns"
   ]
  },
  {
   "cell_type": "code",
   "execution_count": 8,
   "id": "1f6ee472",
   "metadata": {},
   "outputs": [
    {
     "data": {
      "text/plain": [
       "Index(['State', 'City', 'Street', 'Zipcode', 'Bedroom', 'Bathroom', 'Area',\n",
       "       'PPSq', 'LotArea', 'MarketEstimate', 'RentEstimate', 'Latitude',\n",
       "       'Longitude', 'ListedPrice'],\n",
       "      dtype='object')"
      ]
     },
     "execution_count": 8,
     "metadata": {},
     "output_type": "execute_result"
    }
   ],
   "source": [
    "house.columns\n",
    "#displaying all the columns name "
   ]
  },
  {
   "cell_type": "code",
   "execution_count": 9,
   "id": "80422c61",
   "metadata": {},
   "outputs": [
    {
     "data": {
      "text/plain": [
       "0"
      ]
     },
     "execution_count": 9,
     "metadata": {},
     "output_type": "execute_result"
    }
   ],
   "source": [
    "house.duplicated().sum()\n",
    "#checking if the dataframe has duplicate values "
   ]
  },
  {
   "cell_type": "code",
   "execution_count": 10,
   "id": "2b822ea9",
   "metadata": {},
   "outputs": [
    {
     "data": {
      "text/plain": [
       "State                0\n",
       "City                 0\n",
       "Street               0\n",
       "Zipcode              0\n",
       "Bedroom             14\n",
       "Bathroom            34\n",
       "Area                 0\n",
       "PPSq                 0\n",
       "LotArea            902\n",
       "MarketEstimate    7236\n",
       "RentEstimate      5976\n",
       "Latitude             0\n",
       "Longitude            0\n",
       "ListedPrice          0\n",
       "dtype: int64"
      ]
     },
     "execution_count": 10,
     "metadata": {},
     "output_type": "execute_result"
    }
   ],
   "source": [
    "house.isnull().sum()\n",
    "#checking for null values "
   ]
  },
  {
   "cell_type": "code",
   "execution_count": 11,
   "id": "d67d6f86",
   "metadata": {},
   "outputs": [],
   "source": [
    "#About 5 columns have null values but since,\n",
    "#I am trying to create a predictive model based on Zipcode,Bedroom,Bathroom, Area & ListedPrice\n",
    "#Treating null values of these columns only to save time "
   ]
  },
  {
   "cell_type": "code",
   "execution_count": 12,
   "id": "7f8c64d7",
   "metadata": {},
   "outputs": [
    {
     "data": {
      "text/plain": [
       "3"
      ]
     },
     "execution_count": 12,
     "metadata": {},
     "output_type": "execute_result"
    }
   ],
   "source": [
    "#calculating avearge bedroom numbers \n",
    "avg_Bedroom=house['Bedroom'].mean().astype(int) #astype(int) to get integer value as bedroom can't 1.25 room \n",
    "avg_Bedroom"
   ]
  },
  {
   "cell_type": "code",
   "execution_count": 13,
   "id": "9069726c",
   "metadata": {},
   "outputs": [],
   "source": [
    "#filling nullvalues with average room \n",
    "house['Bedroom'].fillna(avg_Bedroom, inplace = True)"
   ]
  },
  {
   "cell_type": "code",
   "execution_count": 14,
   "id": "7d034faa",
   "metadata": {},
   "outputs": [
    {
     "data": {
      "text/plain": [
       "State                0\n",
       "City                 0\n",
       "Street               0\n",
       "Zipcode              0\n",
       "Bedroom              0\n",
       "Bathroom            34\n",
       "Area                 0\n",
       "PPSq                 0\n",
       "LotArea            902\n",
       "MarketEstimate    7236\n",
       "RentEstimate      5976\n",
       "Latitude             0\n",
       "Longitude            0\n",
       "ListedPrice          0\n",
       "dtype: int64"
      ]
     },
     "execution_count": 14,
     "metadata": {},
     "output_type": "execute_result"
    }
   ],
   "source": [
    "house.isnull().sum()"
   ]
  },
  {
   "cell_type": "code",
   "execution_count": 15,
   "id": "e81366d8",
   "metadata": {},
   "outputs": [
    {
     "data": {
      "text/plain": [
       "2"
      ]
     },
     "execution_count": 15,
     "metadata": {},
     "output_type": "execute_result"
    }
   ],
   "source": [
    "#calculating average bathroom number\n",
    "avg_Bathroom = house['Bathroom'].mean().astype(int)\n",
    "avg_Bathroom"
   ]
  },
  {
   "cell_type": "code",
   "execution_count": 16,
   "id": "7b6d24e8",
   "metadata": {},
   "outputs": [],
   "source": [
    "#filling null values with average no. of bathrooms \n",
    "house['Bathroom'].fillna(avg_Bathroom, inplace = True)"
   ]
  },
  {
   "cell_type": "code",
   "execution_count": 17,
   "id": "38023656",
   "metadata": {},
   "outputs": [
    {
     "data": {
      "text/plain": [
       "State                0\n",
       "City                 0\n",
       "Street               0\n",
       "Zipcode              0\n",
       "Bedroom              0\n",
       "Bathroom             0\n",
       "Area                 0\n",
       "PPSq                 0\n",
       "LotArea            902\n",
       "MarketEstimate    7236\n",
       "RentEstimate      5976\n",
       "Latitude             0\n",
       "Longitude            0\n",
       "ListedPrice          0\n",
       "dtype: int64"
      ]
     },
     "execution_count": 17,
     "metadata": {},
     "output_type": "execute_result"
    }
   ],
   "source": [
    "house.isnull().sum()"
   ]
  },
  {
   "cell_type": "code",
   "execution_count": 18,
   "id": "2c5e164f",
   "metadata": {},
   "outputs": [],
   "source": [
    "#slecting the columns that are needed for the model \n",
    "house_price = house[['Area','Zipcode','Bedroom','Bathroom','ListedPrice']]"
   ]
  },
  {
   "cell_type": "code",
   "execution_count": 19,
   "id": "a870a34d",
   "metadata": {},
   "outputs": [
    {
     "data": {
      "text/plain": [
       "(22681, 5)"
      ]
     },
     "execution_count": 19,
     "metadata": {},
     "output_type": "execute_result"
    }
   ],
   "source": [
    "house_price.shape"
   ]
  },
  {
   "cell_type": "code",
   "execution_count": 20,
   "id": "cddd026b",
   "metadata": {},
   "outputs": [],
   "source": [
    "#Assigning columns to feature and variables \n",
    "X = house_price[['Area','Bedroom','Bathroom','Zipcode']]\n",
    "y = house_price[['ListedPrice']]"
   ]
  },
  {
   "cell_type": "code",
   "execution_count": 21,
   "id": "b58a4219",
   "metadata": {},
   "outputs": [],
   "source": [
    "#Performing 70/30 split as the model performed better in this split \n",
    "#compared to the traditional \n",
    "X_train,X_test,y_train,y_test = train_test_split(X,y,test_size = 0.3, random_state= 42)"
   ]
  },
  {
   "cell_type": "code",
   "execution_count": 22,
   "id": "27d3c350",
   "metadata": {},
   "outputs": [
    {
     "data": {
      "text/html": [
       "<style>#sk-container-id-1 {color: black;}#sk-container-id-1 pre{padding: 0;}#sk-container-id-1 div.sk-toggleable {background-color: white;}#sk-container-id-1 label.sk-toggleable__label {cursor: pointer;display: block;width: 100%;margin-bottom: 0;padding: 0.3em;box-sizing: border-box;text-align: center;}#sk-container-id-1 label.sk-toggleable__label-arrow:before {content: \"▸\";float: left;margin-right: 0.25em;color: #696969;}#sk-container-id-1 label.sk-toggleable__label-arrow:hover:before {color: black;}#sk-container-id-1 div.sk-estimator:hover label.sk-toggleable__label-arrow:before {color: black;}#sk-container-id-1 div.sk-toggleable__content {max-height: 0;max-width: 0;overflow: hidden;text-align: left;background-color: #f0f8ff;}#sk-container-id-1 div.sk-toggleable__content pre {margin: 0.2em;color: black;border-radius: 0.25em;background-color: #f0f8ff;}#sk-container-id-1 input.sk-toggleable__control:checked~div.sk-toggleable__content {max-height: 200px;max-width: 100%;overflow: auto;}#sk-container-id-1 input.sk-toggleable__control:checked~label.sk-toggleable__label-arrow:before {content: \"▾\";}#sk-container-id-1 div.sk-estimator input.sk-toggleable__control:checked~label.sk-toggleable__label {background-color: #d4ebff;}#sk-container-id-1 div.sk-label input.sk-toggleable__control:checked~label.sk-toggleable__label {background-color: #d4ebff;}#sk-container-id-1 input.sk-hidden--visually {border: 0;clip: rect(1px 1px 1px 1px);clip: rect(1px, 1px, 1px, 1px);height: 1px;margin: -1px;overflow: hidden;padding: 0;position: absolute;width: 1px;}#sk-container-id-1 div.sk-estimator {font-family: monospace;background-color: #f0f8ff;border: 1px dotted black;border-radius: 0.25em;box-sizing: border-box;margin-bottom: 0.5em;}#sk-container-id-1 div.sk-estimator:hover {background-color: #d4ebff;}#sk-container-id-1 div.sk-parallel-item::after {content: \"\";width: 100%;border-bottom: 1px solid gray;flex-grow: 1;}#sk-container-id-1 div.sk-label:hover label.sk-toggleable__label {background-color: #d4ebff;}#sk-container-id-1 div.sk-serial::before {content: \"\";position: absolute;border-left: 1px solid gray;box-sizing: border-box;top: 0;bottom: 0;left: 50%;z-index: 0;}#sk-container-id-1 div.sk-serial {display: flex;flex-direction: column;align-items: center;background-color: white;padding-right: 0.2em;padding-left: 0.2em;position: relative;}#sk-container-id-1 div.sk-item {position: relative;z-index: 1;}#sk-container-id-1 div.sk-parallel {display: flex;align-items: stretch;justify-content: center;background-color: white;position: relative;}#sk-container-id-1 div.sk-item::before, #sk-container-id-1 div.sk-parallel-item::before {content: \"\";position: absolute;border-left: 1px solid gray;box-sizing: border-box;top: 0;bottom: 0;left: 50%;z-index: -1;}#sk-container-id-1 div.sk-parallel-item {display: flex;flex-direction: column;z-index: 1;position: relative;background-color: white;}#sk-container-id-1 div.sk-parallel-item:first-child::after {align-self: flex-end;width: 50%;}#sk-container-id-1 div.sk-parallel-item:last-child::after {align-self: flex-start;width: 50%;}#sk-container-id-1 div.sk-parallel-item:only-child::after {width: 0;}#sk-container-id-1 div.sk-dashed-wrapped {border: 1px dashed gray;margin: 0 0.4em 0.5em 0.4em;box-sizing: border-box;padding-bottom: 0.4em;background-color: white;}#sk-container-id-1 div.sk-label label {font-family: monospace;font-weight: bold;display: inline-block;line-height: 1.2em;}#sk-container-id-1 div.sk-label-container {text-align: center;}#sk-container-id-1 div.sk-container {/* jupyter's `normalize.less` sets `[hidden] { display: none; }` but bootstrap.min.css set `[hidden] { display: none !important; }` so we also need the `!important` here to be able to override the default hidden behavior on the sphinx rendered scikit-learn.org. See: https://github.com/scikit-learn/scikit-learn/issues/21755 */display: inline-block !important;position: relative;}#sk-container-id-1 div.sk-text-repr-fallback {display: none;}</style><div id=\"sk-container-id-1\" class=\"sk-top-container\"><div class=\"sk-text-repr-fallback\"><pre>LinearRegression()</pre><b>In a Jupyter environment, please rerun this cell to show the HTML representation or trust the notebook. <br />On GitHub, the HTML representation is unable to render, please try loading this page with nbviewer.org.</b></div><div class=\"sk-container\" hidden><div class=\"sk-item\"><div class=\"sk-estimator sk-toggleable\"><input class=\"sk-toggleable__control sk-hidden--visually\" id=\"sk-estimator-id-1\" type=\"checkbox\" checked><label for=\"sk-estimator-id-1\" class=\"sk-toggleable__label sk-toggleable__label-arrow\">LinearRegression</label><div class=\"sk-toggleable__content\"><pre>LinearRegression()</pre></div></div></div></div></div>"
      ],
      "text/plain": [
       "LinearRegression()"
      ]
     },
     "execution_count": 22,
     "metadata": {},
     "output_type": "execute_result"
    }
   ],
   "source": [
    "#Intializing the model \n",
    "model = LinearRegression()\n",
    "model.fit(X_train, y_train)"
   ]
  },
  {
   "cell_type": "code",
   "execution_count": 23,
   "id": "3d89198a",
   "metadata": {},
   "outputs": [
    {
     "data": {
      "text/plain": [
       "array([[1110297.41625538],\n",
       "       [1118600.56164468],\n",
       "       [1712625.33121771],\n",
       "       ...,\n",
       "       [ 470489.33169431],\n",
       "       [1827960.46394099],\n",
       "       [ 546731.86157071]])"
      ]
     },
     "execution_count": 23,
     "metadata": {},
     "output_type": "execute_result"
    }
   ],
   "source": [
    "#Predicting on the test set\n",
    "y_pred = model.predict(X_test)\n",
    "y_pred"
   ]
  },
  {
   "cell_type": "code",
   "execution_count": 24,
   "id": "556757ef",
   "metadata": {},
   "outputs": [
    {
     "name": "stdout",
     "output_type": "stream",
     "text": [
      "Median Absolute Error: 226640.29573383997\n",
      "Mean squared Error: 1666458586185.1128\n",
      "R-squared: 0.3367503187259008\n"
     ]
    }
   ],
   "source": [
    "#Calculating MEDAE,MSE and R-squared\n",
    "medae = median_absolute_error(y_test, y_pred)\n",
    "mse = mean_squared_error(y_test, y_pred)\n",
    "r2 = r2_score(y_test, y_pred)\n",
    "\n",
    "print(f'Median Absolute Error: {medae}')\n",
    "print(f\"Mean squared Error: {mse}\")\n",
    "print(f\"R-squared: {r2}\")"
   ]
  },
  {
   "cell_type": "code",
   "execution_count": 28,
   "id": "52a667b9",
   "metadata": {},
   "outputs": [
    {
     "name": "stdout",
     "output_type": "stream",
     "text": [
      "Predicted Price for 2 Bath 4 Bed house in 1800 sqfoot area in Zipcode(35043) is : $[198305.65638398]\n"
     ]
    }
   ],
   "source": [
    "# Creating a DataFrame with column names\n",
    "new_house_price = pd.DataFrame({\"Area\":[1800], \"Bedroom\": [4], \"Bathroom\":[2],\"Zipcode\": [35043]})\n",
    "predicted_price = model.predict(new_house_price)\n",
    "\n",
    "print(f\"Predicted Price for 2 Bath 4 Bed house in 1800 sqfoot area in Zipcode(35043) is : ${predicted_price[0]}\")"
   ]
  },
  {
   "cell_type": "code",
   "execution_count": null,
   "id": "f4e9011d",
   "metadata": {},
   "outputs": [],
   "source": []
  }
 ],
 "metadata": {
  "kernelspec": {
   "display_name": "Python 3 (ipykernel)",
   "language": "python",
   "name": "python3"
  },
  "language_info": {
   "codemirror_mode": {
    "name": "ipython",
    "version": 3
   },
   "file_extension": ".py",
   "mimetype": "text/x-python",
   "name": "python",
   "nbconvert_exporter": "python",
   "pygments_lexer": "ipython3",
   "version": "3.11.4"
  }
 },
 "nbformat": 4,
 "nbformat_minor": 5
}
